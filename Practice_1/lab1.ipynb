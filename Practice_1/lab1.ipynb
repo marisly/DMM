{
 "cells": [
  {
   "cell_type": "code",
   "execution_count": 25,
   "metadata": {},
   "outputs": [],
   "source": [
    "import statsmodels.api as sm\n",
    "import matplotlib.pyplot as plt\n",
    "import numpy as np\n",
    "from sklearn import linear_model\n",
    "import pandas as pd\n"
   ]
  },
  {
   "cell_type": "code",
   "execution_count": 30,
   "metadata": {},
   "outputs": [],
   "source": [
    "x = [0.50, 0.75, 1.00, 1.25, 1.50, 1.75, 1.75, 2.00, 2.25, 2.50, 2.75, 3.00, 3.25, 3.50, 4.00, 4.25, 4.50, 4.75, 5.00, 5.50]\n",
    "y = [0,    0,    0,    0,    0,    0,    1,    0,    1,    0,    1,    0,    1,    0,    1,    1,    1,    1,    1,    1]\n",
    "\n",
    "X_test = [0, 1, 2, 3, 4, 5]"
   ]
  },
  {
   "cell_type": "code",
   "execution_count": 41,
   "metadata": {},
   "outputs": [
    {
     "name": "stdout",
     "output_type": "stream",
     "text": [
      "Optimization terminated successfully.    (Exit mode 0)\n",
      "            Current function value: 0.4014939232249575\n",
      "            Iterations: 14\n",
      "            Function evaluations: 14\n",
      "            Gradient evaluations: 14\n"
     ]
    }
   ],
   "source": [
    "X = sm.add_constant(x)\n",
    "\n",
    "logit = sm.Logit(y,X).fit_regularized()\n",
    "proba = (logit.predict(X))\n",
    "\n",
    "# estimate confidence interval for predicted probabilities\n",
    "cov = logit.cov_params()\n",
    "gradient = (proba * (1 - proba) * X.T).T # matrix of gradients for each observation\n",
    "std_errors = np.array([np.sqrt(np.dot(np.dot(g, cov), g)) for g in gradient])\n",
    "\n",
    "c = 1.96 # multiplier for confidence interval\n",
    "upper = np.maximum(0, np.minimum(1, proba + std_errors * c))\n",
    "lower = np.maximum(0, np.minimum(1, proba - std_errors * c))\n"
   ]
  },
  {
   "cell_type": "code",
   "execution_count": 39,
   "metadata": {
    "scrolled": true
   },
   "outputs": [
    {
     "data": {
      "image/png": "[encoded data removed]",
      "text/plain": [
       "<Figure size 432x288 with 1 Axes>"
      ]
     },
     "metadata": {},
     "output_type": "display_data"
    }
   ],
   "source": [
    "plt.plot(x, proba, label ='Probability')\n",
    "plt.plot(x, lower, color='g',label='lower 95% CI')\n",
    "plt.plot(x, upper, color='g', label = 'upper 95% CI')\n",
    "plt.legend()\n",
    "plt.show()"
   ]
  },
  {
   "cell_type": "markdown",
   "metadata": {},
   "source": [
    "### Generate Random values\n"
   ]
  },
  {
   "cell_type": "code",
   "execution_count": null,
   "metadata": {},
   "outputs": [],
   "source": [
    "rnd_hrs = np.random.uniform(0,5,10000)\n",
    "rnd_hrs = np.sort(rnd_hrs,axis=0)\n",
    "rnd_X = sm.add_constant(rnd_hrs)\n",
    "rnd_proba = (logit.predict(rnd_X))\n",
    "print(rnd_proba)\n",
    "i = 0\n",
    "for item in rnd_proba:\n",
    "    if item<0.5:\n",
    "        rnd_proba[i] = 0\n",
    "    else:\n",
    "        item = rnd_proba[i] = 1\n",
    "    i += 1\n",
    "\n",
    "print(rnd_proba,rnd_hrs)"
   ]
  },
  {
   "cell_type": "code",
   "execution_count": null,
   "metadata": {},
   "outputs": [],
   "source": [
    "\n",
    "preds = []\n",
    "for i in range(1000):\n",
    "    boot_idx = np.random.choice(len(rnd_X), replace=True, size=len(rnd_X))\n",
    "    Y=[]\n",
    "    for i in boot_idx:\n",
    "        Y.append(rnd_proba[i])\n",
    "    try:\n",
    "        model = sm.Logit(Y, rnd_X[boot_idx]).fit_regularized()\n",
    "        sorted = np.sort(rnd_X[boot_idx],axis=0)      \n",
    "        preds.append(logit.predict(sorted))\n",
    "    except:\n",
    "        pass\n",
    "    \n",
    "\n",
    "# print(preds)"
   ]
  },
  {
   "cell_type": "code",
   "execution_count": null,
   "metadata": {},
   "outputs": [],
   "source": [
    "\n",
    "p = np.array(preds)\n",
    "plt.plot(rnd_X[:, 1], np.percentile(p, 95, axis=0),color='g',label='upper 95% CI')\n",
    "plt.plot(rnd_X[:, 1], np.percentile(p, 5, axis=0),color='r',label='lower 95% CI')\n",
    "plt.legend()\n",
    "plt.show()\n"
   ]
  },
  {
   "cell_type": "code",
   "execution_count": null,
   "metadata": {},
   "outputs": [],
   "source": []
  }
 ],
 "metadata": {
  "kernelspec": {
   "display_name": "Python 3",
   "language": "python",
   "name": "python3"
  },
  "language_info": {
   "codemirror_mode": {
    "name": "ipython",
    "version": 3
   },
   "file_extension": ".py",
   "mimetype": "text/x-python",
   "name": "python",
   "nbconvert_exporter": "python",
   "pygments_lexer": "ipython3",
   "version": "3.6.5"
  }
 },
 "nbformat": 4,
 "nbformat_minor": 1
}
