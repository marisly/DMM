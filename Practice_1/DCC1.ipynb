{
 "cells": [
  {
   "cell_type": "code",
   "execution_count": 2,
   "metadata": {},
   "outputs": [
    {
     "name": "stderr",
     "output_type": "stream",
     "text": [
      "/usr/local/lib/python3.5/dist-packages/statsmodels/compat/pandas.py:56: FutureWarning: The pandas.core.datetools module is deprecated and will be removed in a future version. Please use the pandas.tseries module instead.\n",
      "  from pandas.core import datetools\n"
     ]
    }
   ],
   "source": [
    "import numpy as np\n",
    "from scipy import stats\n",
    "from sklearn.metrics import f1_score\n",
    "import statsmodels.api as sm\n",
    "from statsmodels.discrete.discrete_model import Logit\n",
    "import matplotlib.pyplot as plt"
   ]
  },
  {
   "cell_type": "code",
   "execution_count": 27,
   "metadata": {},
   "outputs": [],
   "source": [
    "X_orig = np.array([0.50, 0.75, 1.00, 1.25, 1.50, 1.75, 1.75, 2.00, 2.25, 2.50, 2.75, 3.00, 3.25, 3.50, 4.00, 4.25, 4.50, 4.75, 5.00, 5.50])\n",
    "Y_True = np.array([0,    0,    0,    0,    0,    0,    1,    0,    1,    0,    1,    0,    1,    0,    1,    1,    1,    1,    1,    1])"
   ]
  },
  {
   "cell_type": "code",
   "execution_count": 28,
   "metadata": {},
   "outputs": [],
   "source": [
    "# split on\n",
    "X_orig = X_orig[2:19]\n",
    "Y_True = Y_True[2:19]"
   ]
  },
  {
   "cell_type": "code",
   "execution_count": 29,
   "metadata": {},
   "outputs": [],
   "source": [
    "# y = mx + b, b is constant here\n",
    "X = sm.add_constant(X_orig)"
   ]
  },
  {
   "cell_type": "code",
   "execution_count": 30,
   "metadata": {},
   "outputs": [],
   "source": [
    "model = Logit(Y_True, X).fit_regularized(disp=False)"
   ]
  },
  {
   "cell_type": "code",
   "execution_count": null,
   "metadata": {},
   "outputs": [],
   "source": []
  },
  {
   "cell_type": "code",
   "execution_count": 31,
   "metadata": {},
   "outputs": [],
   "source": [
    "y_pred = model.predict(X)\n",
    "y_out = y_pred"
   ]
  },
  {
   "cell_type": "code",
   "execution_count": null,
   "metadata": {},
   "outputs": [],
   "source": []
  },
  {
   "cell_type": "code",
   "execution_count": null,
   "metadata": {},
   "outputs": [],
   "source": []
  },
  {
   "cell_type": "code",
   "execution_count": 32,
   "metadata": {},
   "outputs": [],
   "source": [
    "# y_pred[y_pred > 0.5] = 1\n",
    "# y_pred[y_pred <= 0.5] = 0"
   ]
  },
  {
   "cell_type": "code",
   "execution_count": 33,
   "metadata": {},
   "outputs": [
    {
     "data": {
      "text/plain": [
       "array([0.08435069, 0.11582111, 0.15701937, 0.20940147, 0.20940147,\n",
       "       0.27358697, 0.34876746, 0.43231221, 0.51989305, 0.60626809,\n",
       "       0.68647482, 0.75689437, 0.86292544, 0.89951444, 0.92716122,\n",
       "       0.94764422, 0.96259954])"
      ]
     },
     "execution_count": 33,
     "metadata": {},
     "output_type": "execute_result"
    }
   ],
   "source": [
    "y_pred"
   ]
  },
  {
   "cell_type": "code",
   "execution_count": 35,
   "metadata": {
    "scrolled": true
   },
   "outputs": [],
   "source": [
    "# f1_score(Y_True, y_pred)"
   ]
  },
  {
   "cell_type": "code",
   "execution_count": null,
   "metadata": {},
   "outputs": [],
   "source": []
  },
  {
   "cell_type": "code",
   "execution_count": 36,
   "metadata": {},
   "outputs": [],
   "source": [
    "cov = model.cov_params()"
   ]
  },
  {
   "cell_type": "code",
   "execution_count": 37,
   "metadata": {},
   "outputs": [],
   "source": [
    "gradient = (y_out * (1 - y_out) * X.T).T"
   ]
  },
  {
   "cell_type": "code",
   "execution_count": 38,
   "metadata": {},
   "outputs": [],
   "source": [
    "std_errors = np.array([np.sqrt(np.dot(np.dot(g, cov), g)) for g in gradient])"
   ]
  },
  {
   "cell_type": "markdown",
   "metadata": {},
   "source": [
    "  \tZ\n",
    "80% \t1.282\n",
    "85% \t1.440\n",
    "90% \t1.645\n",
    "95% \t1.960\n",
    "99% \t2.576\n",
    "99.5% \t2.807\n",
    "99.9% \t3.291"
   ]
  },
  {
   "cell_type": "code",
   "execution_count": 39,
   "metadata": {},
   "outputs": [],
   "source": [
    "c = 1.282 # multiplier for confidence interval\n",
    "upper = np.maximum(0, np.minimum(1, y_out + std_errors * c))\n",
    "lower = np.maximum(0, np.minimum(1, y_out - std_errors * c))"
   ]
  },
  {
   "cell_type": "code",
   "execution_count": 40,
   "metadata": {},
   "outputs": [
    {
     "data": {
      "image/png": "[encoded data removed]",
      "text/plain": [
       "<matplotlib.figure.Figure at 0x7fa141989358>"
      ]
     },
     "metadata": {},
     "output_type": "display_data"
    }
   ],
   "source": [
    "plt.plot(X_orig, y_out)\n",
    "plt.plot(X_orig, lower, color='g')\n",
    "plt.plot(X_orig, upper, color='g')\n",
    "plt.show()"
   ]
  },
  {
   "cell_type": "code",
   "execution_count": 41,
   "metadata": {
    "scrolled": true
   },
   "outputs": [
    {
     "name": "stderr",
     "output_type": "stream",
     "text": [
      "/usr/local/lib/python3.5/dist-packages/ipykernel_launcher.py:10: RuntimeWarning: invalid value encountered in sqrt\n",
      "  # Remove the CWD from sys.path while we load stuff.\n"
     ]
    }
   ],
   "source": [
    "preds = []\n",
    "N = 1000\n",
    "for i in range(N):\n",
    "    idx = np.random.choice(range(len(y_out)), size=len(y_out))\n",
    "    try:\n",
    "        model = sm.Logit(Y_True[idx], X[idx]).fit_regularized(disp=False)\n",
    "        pred = model.predict(X)\n",
    "        cov = model.cov_params()\n",
    "        gradient = (pred * (1 - pred) * X.T).T\n",
    "        std_errors = np.array([np.sqrt(np.dot(np.dot(g, cov), g)) for g in gradient])\n",
    "        c = 1.282 # multiplier for confidence interval\n",
    "        upper = np.maximum(0, np.minimum(1, pred + std_errors * c))\n",
    "        lower = np.maximum(0, np.minimum(1, pred - std_errors * c))\n",
    "        preds.append([lower, pred, upper])\n",
    "    except:\n",
    "        pass"
   ]
  },
  {
   "cell_type": "code",
   "execution_count": 42,
   "metadata": {},
   "outputs": [
    {
     "data": {
      "text/plain": [
       "array([6, 3, 2, ..., 1, 3, 5])"
      ]
     },
     "execution_count": 42,
     "metadata": {},
     "output_type": "execute_result"
    }
   ],
   "source": [
    "np.random.choice(range(len(y_out)), size=100000)"
   ]
  },
  {
   "cell_type": "code",
   "execution_count": 43,
   "metadata": {
    "scrolled": true
   },
   "outputs": [],
   "source": [
    "p = np.array(preds)\n",
    "p = np.nan_to_num(p)"
   ]
  },
  {
   "cell_type": "code",
   "execution_count": null,
   "metadata": {},
   "outputs": [],
   "source": []
  },
  {
   "cell_type": "code",
   "execution_count": 44,
   "metadata": {},
   "outputs": [
    {
     "data": {
      "text/plain": [
       "array([0.00473507, 0.01213839, 0.02760291, 0.06073905, 0.06073905,\n",
       "       0.11173017, 0.17675722, 0.2493013 , 0.33239637, 0.41503498,\n",
       "       0.50129803, 0.57722938, 0.71045857, 0.76506589, 0.80545829,\n",
       "       0.83825915, 0.86496038])"
      ]
     },
     "execution_count": 44,
     "metadata": {},
     "output_type": "execute_result"
    }
   ],
   "source": [
    "np.mean(p[:,0,:], 0)"
   ]
  },
  {
   "cell_type": "code",
   "execution_count": 45,
   "metadata": {},
   "outputs": [
    {
     "data": {
      "text/plain": [
       "array([[0.        , 0.        , 0.        , ..., 0.98285587, 0.99011268,\n",
       "        0.99433139],\n",
       "       [0.        , 0.        , 0.        , ..., 0.84841968, 0.89236148,\n",
       "        0.92477321],\n",
       "       [0.        , 0.        , 0.        , ..., 0.99823863, 0.99922236,\n",
       "        0.99965884],\n",
       "       ...,\n",
       "       [0.        , 0.        , 0.        , ..., 0.65411745, 0.71129586,\n",
       "        0.76285906],\n",
       "       [0.03504911, 0.12399825, 0.22556049, ..., 0.89297432, 0.91286426,\n",
       "        0.92950306],\n",
       "       [0.        , 0.        , 0.        , ..., 0.83799401, 0.87778127,\n",
       "        0.90892592]])"
      ]
     },
     "execution_count": 45,
     "metadata": {},
     "output_type": "execute_result"
    }
   ],
   "source": [
    "p[:,0,:]"
   ]
  },
  {
   "cell_type": "code",
   "execution_count": null,
   "metadata": {},
   "outputs": [],
   "source": []
  },
  {
   "cell_type": "markdown",
   "metadata": {},
   "source": [
    "## Bootstrap"
   ]
  },
  {
   "cell_type": "code",
   "execution_count": 46,
   "metadata": {},
   "outputs": [
    {
     "data": {
      "image/png": "[encoded data removed]",
      "text/plain": [
       "<matplotlib.figure.Figure at 0x7fa1418c7588>"
      ]
     },
     "metadata": {},
     "output_type": "display_data"
    }
   ],
   "source": [
    "plt.plot(X_orig, np.mean(p[:,1,:], 0))\n",
    "plt.plot(X_orig, np.mean(p[:,0,:], 0), 'g')\n",
    "plt.plot(X_orig, np.mean(p[:,2,:], 0), 'g')\n",
    "plt.show()"
   ]
  },
  {
   "cell_type": "markdown",
   "metadata": {},
   "source": [
    "## Original"
   ]
  },
  {
   "cell_type": "code",
   "execution_count": 47,
   "metadata": {},
   "outputs": [
    {
     "data": {
      "image/png": "[encoded data removed]",
      "text/plain": [
       "<matplotlib.figure.Figure at 0x7fa1418ca7f0>"
      ]
     },
     "metadata": {},
     "output_type": "display_data"
    }
   ],
   "source": [
    "plt.plot(X_orig, y_out)\n",
    "plt.plot(X_orig, lower, color='g')\n",
    "plt.plot(X_orig, upper, color='g')\n",
    "plt.show()"
   ]
  },
  {
   "cell_type": "code",
   "execution_count": null,
   "metadata": {},
   "outputs": [],
   "source": []
  }
 ],
 "metadata": {
  "kernelspec": {
   "display_name": "Python 3",
   "language": "python",
   "name": "python3"
  },
  "language_info": {
   "codemirror_mode": {
    "name": "ipython",
    "version": 3
   },
   "file_extension": ".py",
   "mimetype": "text/x-python",
   "name": "python",
   "nbconvert_exporter": "python",
   "pygments_lexer": "ipython3",
   "version": "3.5.2"
  }
 },
 "nbformat": 4,
 "nbformat_minor": 2
}
