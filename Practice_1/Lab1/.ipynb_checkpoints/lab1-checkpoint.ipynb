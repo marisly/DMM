{
 "cells": [
  {
   "cell_type": "code",
   "execution_count": 2,
   "metadata": {},
   "outputs": [],
   "source": [
    "import statsmodels.api as sm\n",
    "import matplotlib.pyplot as plt\n",
    "import numpy as np\n",
    "from sklearn import linear_model\n",
    "import pandas as pd"
   ]
  },
  {
   "cell_type": "code",
   "execution_count": 3,
   "metadata": {},
   "outputs": [],
   "source": [
    "x = [0.50, 0.75, 1.00, 1.25, 1.50, 1.75, 1.75, 2.00, 2.25, 2.50, 2.75, 3.00, 3.25, 3.50, 4.00, 4.25, 4.50, 4.75, 5.00, 5.50]\n",
    "y = [0,    0,    0,    0,    0,    0,    1,    0,    1,    0,    1,    0,    1,    0,    1,    1,    1,    1,    1,    1]\n",
    "\n",
    "X_test = [0, 1, 2, 3, 4, 5]"
   ]
  },
  {
   "cell_type": "code",
   "execution_count": 4,
   "metadata": {},
   "outputs": [
    {
     "name": "stdout",
     "output_type": "stream",
     "text": [
      "Optimization terminated successfully.    (Exit mode 0)\n",
      "            Current function value: 0.4014939232249575\n",
      "            Iterations: 14\n",
      "            Function evaluations: 14\n",
      "            Gradient evaluations: 14\n"
     ]
    },
    {
     "data": {
      "image/png": "[encoded data removed]",
      "text/plain": [
       "<Figure size 432x288 with 1 Axes>"
      ]
     },
     "metadata": {},
     "output_type": "display_data"
    }
   ],
   "source": [
    "X = sm.add_constant(x)\n",
    "\n",
    "logit = sm.Logit(y,X).fit_regularized()\n",
    "proba = (logit.predict(X))\n",
    "\n",
    "# estimate confidence interval for predicted probabilities\n",
    "cov = logit.cov_params()\n",
    "gradient = (proba * (1 - proba) * X.T).T # matrix of gradients for each observation\n",
    "std_errors = np.array([np.sqrt(np.dot(np.dot(g, cov), g)) for g in gradient])\n",
    "\n",
    "c = 1.96 # multiplier for confidence interval\n",
    "upper = np.maximum(0, np.minimum(1, proba + std_errors * c))\n",
    "lower = np.maximum(0, np.minimum(1, proba - std_errors * c))\n",
    "\n",
    "plt.plot(x, proba, label ='Probability')\n",
    "plt.plot(x, lower, color='g',label='lower 95% CI')\n",
    "plt.plot(x, upper, color='g', label = 'upper 95% CI')\n",
    "plt.legend()\n",
    "plt.show()"
   ]
  },
  {
   "cell_type": "code",
   "execution_count": 6,
   "metadata": {},
   "outputs": [],
   "source": [
    "rnd_hrs = np.random.uniform(0,5,10)\n",
    "rnd_X = sm.add_constant(rnd_hrs)\n",
    "rnd_proba = (logit.predict(rnd_X))\n",
    "# print(rnd_proba)\n",
    "i = 0\n",
    "for item in rnd_proba:\n",
    "    if item<0.5:\n",
    "        rnd_proba[i] = 0\n",
    "    else:\n",
    "        item = rnd_proba[i] = 1\n",
    "    i += 1\n",
    "    \n"
   ]
  },
  {
   "cell_type": "code",
   "execution_count": 5,
   "metadata": {},
   "outputs": [
    {
     "name": "stdout",
     "output_type": "stream",
     "text": [
      "[17 17  0 15 16 18  6  0 16 14  7 15 14 16 14 14  6 19  9  9] <class 'numpy.ndarray'>\n",
      "[1, 1, 0, 1, 1, 1, 1, 0, 1, 1, 0, 1, 1, 1, 1, 1, 1, 1, 0, 0]\n",
      "Optimization terminated successfully.    (Exit mode 0)\n",
      "            Current function value: 0.26200663857381346\n",
      "            Iterations: 14\n",
      "            Function evaluations: 15\n",
      "            Gradient evaluations: 14\n",
      "SORTED [[1.   0.5 ]\n",
      " [1.   0.5 ]\n",
      " [1.   1.75]\n",
      " [1.   1.75]\n",
      " [1.   2.  ]\n",
      " [1.   2.5 ]\n",
      " [1.   2.5 ]\n",
      " [1.   4.  ]\n",
      " [1.   4.  ]\n",
      " [1.   4.  ]\n",
      " [1.   4.  ]\n",
      " [1.   4.25]\n",
      " [1.   4.25]\n",
      " [1.   4.5 ]\n",
      " [1.   4.5 ]\n",
      " [1.   4.5 ]\n",
      " [1.   4.75]\n",
      " [1.   4.75]\n",
      " [1.   5.  ]\n",
      " [1.   5.5 ]]\n",
      "SORTED PREDS [0.03471075 0.03471075 0.19083829 0.19083829 0.25570535 0.42162924\n",
      " 0.42162924 0.87444862 0.87444862 0.87444862 0.87444862 0.91027846\n",
      " 0.91027846 0.93662425 0.93662425 0.93662425 0.95561112 0.95561112\n",
      " 0.96909735 0.98519458]\n",
      "[13 19 12  3 10  2 17 19 18  6 17  9  5  9 13  1 14 11 18  9] <class 'numpy.ndarray'>\n",
      "[0, 1, 1, 0, 1, 0, 1, 1, 1, 1, 1, 0, 0, 0, 0, 0, 1, 0, 1, 0]\n",
      "Optimization terminated successfully.    (Exit mode 0)\n",
      "            Current function value: 0.41141141060278513\n",
      "            Iterations: 15\n",
      "            Function evaluations: 15\n",
      "            Gradient evaluations: 15\n",
      "SORTED [[1.   0.75]\n",
      " [1.   1.  ]\n",
      " [1.   1.25]\n",
      " [1.   1.75]\n",
      " [1.   1.75]\n",
      " [1.   2.5 ]\n",
      " [1.   2.5 ]\n",
      " [1.   2.5 ]\n",
      " [1.   2.75]\n",
      " [1.   3.  ]\n",
      " [1.   3.25]\n",
      " [1.   3.5 ]\n",
      " [1.   3.5 ]\n",
      " [1.   4.  ]\n",
      " [1.   4.75]\n",
      " [1.   4.75]\n",
      " [1.   5.  ]\n",
      " [1.   5.  ]\n",
      " [1.   5.5 ]\n",
      " [1.   5.5 ]]\n",
      "SORTED PREDS [0.04977352 0.07089275 0.10002968 0.19083829 0.19083829 0.42162924\n",
      " 0.42162924 0.42162924 0.51501359 0.60736122 0.6926196  0.76648272\n",
      " 0.76648272 0.87444862 0.95561112 0.95561112 0.96909735 0.96909735\n",
      " 0.98519458 0.98519458]\n",
      "[array([0.03471075, 0.03471075, 0.19083829, 0.19083829, 0.25570535,\n",
      "       0.42162924, 0.42162924, 0.87444862, 0.87444862, 0.87444862,\n",
      "       0.87444862, 0.91027846, 0.91027846, 0.93662425, 0.93662425,\n",
      "       0.93662425, 0.95561112, 0.95561112, 0.96909735, 0.98519458]), array([0.04977352, 0.07089275, 0.10002968, 0.19083829, 0.19083829,\n",
      "       0.42162924, 0.42162924, 0.42162924, 0.51501359, 0.60736122,\n",
      "       0.6926196 , 0.76648272, 0.76648272, 0.87444862, 0.95561112,\n",
      "       0.95561112, 0.96909735, 0.96909735, 0.98519458, 0.98519458])]\n"
     ]
    }
   ],
   "source": [
    "#bootstrap\n",
    "preds = []\n",
    "for i in range(1000):\n",
    "    boot_idx = np.random.choice(len(X), replace=True, size=len(X))\n",
    "    print(boot_idx,type(boot_idx))\n",
    "    Y=[]\n",
    "    for x in boot_idx:\n",
    "        Y.append(y[x])\n",
    "    print(Y)\n",
    "    try:\n",
    "        model = sm.Logit(Y, X[boot_idx]).fit_regularized()\n",
    "        sorted = np.sort(X[boot_idx],axis=0)\n",
    "        print(\"SORTED\",sorted)\n",
    "        preds.append(logit.predict(sorted))\n",
    "        print(\"SORTED PREDS\", logit.predict(sorted))\n",
    "    except:\n",
    "        pass\n",
    "    if i == 1:\n",
    "        break\n",
    "\n",
    "print(preds)\n"
   ]
  },
  {
   "cell_type": "code",
   "execution_count": null,
   "metadata": {},
   "outputs": [],
   "source": [
    "p = np.array(preds)\n",
    "plt.plot(X[:, 1], np.percentile(p, 95.5, axis=0),color='g',label='95% CI')\n",
    "plt.plot(X[:, 1], np.percentile(p, 2.5, axis=0),color='r',label='95% CI')\n",
    "plt.legend()\n",
    "plt.show()"
   ]
  },
  {
   "cell_type": "code",
   "execution_count": null,
   "metadata": {},
   "outputs": [],
   "source": []
  },
  {
   "cell_type": "code",
   "execution_count": null,
   "metadata": {},
   "outputs": [],
   "source": []
  }
 ],
 "metadata": {
  "kernelspec": {
   "display_name": "Python 3",
   "language": "python",
   "name": "python3"
  },
  "language_info": {
   "codemirror_mode": {
    "name": "ipython",
    "version": 3
   },
   "file_extension": ".py",
   "mimetype": "text/x-python",
   "name": "python",
   "nbconvert_exporter": "python",
   "pygments_lexer": "ipython3",
   "version": "3.6.4"
  }
 },
 "nbformat": 4,
 "nbformat_minor": 1
}
