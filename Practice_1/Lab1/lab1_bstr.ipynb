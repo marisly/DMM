{
 "cells": [
  {
   "cell_type": "code",
   "execution_count": 1,
   "metadata": {},
   "outputs": [
    {
     "name": "stderr",
     "output_type": "stream",
     "text": [
      "/anaconda3/anaconda3/lib/python3.6/site-packages/statsmodels/compat/pandas.py:56: FutureWarning: The pandas.core.datetools module is deprecated and will be removed in a future version. Please use the pandas.tseries module instead.\n",
      "  from pandas.core import datetools\n"
     ]
    }
   ],
   "source": [
    "import statsmodels.api as sm\n",
    "import matplotlib.pyplot as plt\n",
    "import numpy as np\n",
    "from sklearn import linear_model\n",
    "import pandas as pd"
   ]
  },
  {
   "cell_type": "code",
   "execution_count": 2,
   "metadata": {},
   "outputs": [],
   "source": [
    "x = [0.50, 0.75, 1.00, 1.25, 1.50, 1.75, 1.75, 2.00, 2.25, 2.50, 2.75, 3.00, 3.25, 3.50, 4.00, 4.25, 4.50, 4.75, 5.00, 5.50]\n",
    "y = [0,    0,    0,    0,    0,    0,    1,    0,    1,    0,    1,    0,    1,    0,    1,    1,    1,    1,    1,    1]\n",
    "\n",
    "X_test = [0, 1, 2, 3, 4, 5]"
   ]
  },
  {
   "cell_type": "code",
   "execution_count": 14,
   "metadata": {},
   "outputs": [
    {
     "ename": "ValueError",
     "evalue": "exog is not 1d or 2d",
     "traceback": [
      "\u001b[0;31m---------------------------------------------------------------------------\u001b[0m",
      "\u001b[0;31mValueError\u001b[0m                                Traceback (most recent call last)",
      "\u001b[0;32m<ipython-input-14-b4255dfab51e>\u001b[0m in \u001b[0;36m<module>\u001b[0;34m()\u001b[0m\n\u001b[1;32m      1\u001b[0m \u001b[0mX\u001b[0m \u001b[0;34m=\u001b[0m \u001b[0msm\u001b[0m\u001b[0;34m.\u001b[0m\u001b[0madd_constant\u001b[0m\u001b[0;34m(\u001b[0m\u001b[0mx\u001b[0m\u001b[0;34m)\u001b[0m\u001b[0;34m\u001b[0m\u001b[0m\n\u001b[1;32m      2\u001b[0m \u001b[0;34m\u001b[0m\u001b[0m\n\u001b[0;32m----> 3\u001b[0;31m \u001b[0mlogit\u001b[0m \u001b[0;34m=\u001b[0m \u001b[0msm\u001b[0m\u001b[0;34m.\u001b[0m\u001b[0mLogit\u001b[0m\u001b[0;34m(\u001b[0m\u001b[0my\u001b[0m\u001b[0;34m,\u001b[0m\u001b[0mX\u001b[0m\u001b[0;34m)\u001b[0m\u001b[0;34m.\u001b[0m\u001b[0mfit_regularized\u001b[0m\u001b[0;34m(\u001b[0m\u001b[0;34m)\u001b[0m\u001b[0;34m\u001b[0m\u001b[0m\n\u001b[0m\u001b[1;32m      4\u001b[0m \u001b[0mproba\u001b[0m \u001b[0;34m=\u001b[0m \u001b[0;34m(\u001b[0m\u001b[0mlogit\u001b[0m\u001b[0;34m.\u001b[0m\u001b[0mpredict\u001b[0m\u001b[0;34m(\u001b[0m\u001b[0mX\u001b[0m\u001b[0;34m)\u001b[0m\u001b[0;34m)\u001b[0m\u001b[0;34m\u001b[0m\u001b[0m\n\u001b[1;32m      5\u001b[0m \u001b[0;34m\u001b[0m\u001b[0m\n",
      "\u001b[0;32m/anaconda3/anaconda3/lib/python3.6/site-packages/statsmodels/discrete/discrete_model.py\u001b[0m in \u001b[0;36m__init__\u001b[0;34m(self, endog, exog, **kwargs)\u001b[0m\n\u001b[1;32m    400\u001b[0m \u001b[0;34m\u001b[0m\u001b[0m\n\u001b[1;32m    401\u001b[0m     \u001b[0;32mdef\u001b[0m \u001b[0m__init__\u001b[0m\u001b[0;34m(\u001b[0m\u001b[0mself\u001b[0m\u001b[0;34m,\u001b[0m \u001b[0mendog\u001b[0m\u001b[0;34m,\u001b[0m \u001b[0mexog\u001b[0m\u001b[0;34m,\u001b[0m \u001b[0;34m**\u001b[0m\u001b[0mkwargs\u001b[0m\u001b[0;34m)\u001b[0m\u001b[0;34m:\u001b[0m\u001b[0;34m\u001b[0m\u001b[0m\n\u001b[0;32m--> 402\u001b[0;31m         \u001b[0msuper\u001b[0m\u001b[0;34m(\u001b[0m\u001b[0mBinaryModel\u001b[0m\u001b[0;34m,\u001b[0m \u001b[0mself\u001b[0m\u001b[0;34m)\u001b[0m\u001b[0;34m.\u001b[0m\u001b[0m__init__\u001b[0m\u001b[0;34m(\u001b[0m\u001b[0mendog\u001b[0m\u001b[0;34m,\u001b[0m \u001b[0mexog\u001b[0m\u001b[0;34m,\u001b[0m \u001b[0;34m**\u001b[0m\u001b[0mkwargs\u001b[0m\u001b[0;34m)\u001b[0m\u001b[0;34m\u001b[0m\u001b[0m\n\u001b[0m\u001b[1;32m    403\u001b[0m         if (not issubclass(self.__class__, MultinomialModel) and\n\u001b[1;32m    404\u001b[0m                 not np.all((self.endog >= 0) & (self.endog <= 1))):\n",
      "\u001b[0;32m/anaconda3/anaconda3/lib/python3.6/site-packages/statsmodels/discrete/discrete_model.py\u001b[0m in \u001b[0;36m__init__\u001b[0;34m(self, endog, exog, **kwargs)\u001b[0m\n\u001b[1;32m    153\u001b[0m     \"\"\"\n\u001b[1;32m    154\u001b[0m     \u001b[0;32mdef\u001b[0m \u001b[0m__init__\u001b[0m\u001b[0;34m(\u001b[0m\u001b[0mself\u001b[0m\u001b[0;34m,\u001b[0m \u001b[0mendog\u001b[0m\u001b[0;34m,\u001b[0m \u001b[0mexog\u001b[0m\u001b[0;34m,\u001b[0m \u001b[0;34m**\u001b[0m\u001b[0mkwargs\u001b[0m\u001b[0;34m)\u001b[0m\u001b[0;34m:\u001b[0m\u001b[0;34m\u001b[0m\u001b[0m\n\u001b[0;32m--> 155\u001b[0;31m         \u001b[0msuper\u001b[0m\u001b[0;34m(\u001b[0m\u001b[0mDiscreteModel\u001b[0m\u001b[0;34m,\u001b[0m \u001b[0mself\u001b[0m\u001b[0;34m)\u001b[0m\u001b[0;34m.\u001b[0m\u001b[0m__init__\u001b[0m\u001b[0;34m(\u001b[0m\u001b[0mendog\u001b[0m\u001b[0;34m,\u001b[0m \u001b[0mexog\u001b[0m\u001b[0;34m,\u001b[0m \u001b[0;34m**\u001b[0m\u001b[0mkwargs\u001b[0m\u001b[0;34m)\u001b[0m\u001b[0;34m\u001b[0m\u001b[0m\n\u001b[0m\u001b[1;32m    156\u001b[0m         \u001b[0mself\u001b[0m\u001b[0;34m.\u001b[0m\u001b[0mraise_on_perfect_prediction\u001b[0m \u001b[0;34m=\u001b[0m \u001b[0;32mTrue\u001b[0m\u001b[0;34m\u001b[0m\u001b[0m\n\u001b[1;32m    157\u001b[0m \u001b[0;34m\u001b[0m\u001b[0m\n",
      "\u001b[0;32m/anaconda3/anaconda3/lib/python3.6/site-packages/statsmodels/base/model.py\u001b[0m in \u001b[0;36m__init__\u001b[0;34m(self, endog, exog, **kwargs)\u001b[0m\n\u001b[1;32m    210\u001b[0m \u001b[0;34m\u001b[0m\u001b[0m\n\u001b[1;32m    211\u001b[0m     \u001b[0;32mdef\u001b[0m \u001b[0m__init__\u001b[0m\u001b[0;34m(\u001b[0m\u001b[0mself\u001b[0m\u001b[0;34m,\u001b[0m \u001b[0mendog\u001b[0m\u001b[0;34m,\u001b[0m \u001b[0mexog\u001b[0m\u001b[0;34m=\u001b[0m\u001b[0;32mNone\u001b[0m\u001b[0;34m,\u001b[0m \u001b[0;34m**\u001b[0m\u001b[0mkwargs\u001b[0m\u001b[0;34m)\u001b[0m\u001b[0;34m:\u001b[0m\u001b[0;34m\u001b[0m\u001b[0m\n\u001b[0;32m--> 212\u001b[0;31m         \u001b[0msuper\u001b[0m\u001b[0;34m(\u001b[0m\u001b[0mLikelihoodModel\u001b[0m\u001b[0;34m,\u001b[0m \u001b[0mself\u001b[0m\u001b[0;34m)\u001b[0m\u001b[0;34m.\u001b[0m\u001b[0m__init__\u001b[0m\u001b[0;34m(\u001b[0m\u001b[0mendog\u001b[0m\u001b[0;34m,\u001b[0m \u001b[0mexog\u001b[0m\u001b[0;34m,\u001b[0m \u001b[0;34m**\u001b[0m\u001b[0mkwargs\u001b[0m\u001b[0;34m)\u001b[0m\u001b[0;34m\u001b[0m\u001b[0m\n\u001b[0m\u001b[1;32m    213\u001b[0m         \u001b[0mself\u001b[0m\u001b[0;34m.\u001b[0m\u001b[0minitialize\u001b[0m\u001b[0;34m(\u001b[0m\u001b[0;34m)\u001b[0m\u001b[0;34m\u001b[0m\u001b[0m\n\u001b[1;32m    214\u001b[0m \u001b[0;34m\u001b[0m\u001b[0m\n",
      "\u001b[0;32m/anaconda3/anaconda3/lib/python3.6/site-packages/statsmodels/base/model.py\u001b[0m in \u001b[0;36m__init__\u001b[0;34m(self, endog, exog, **kwargs)\u001b[0m\n\u001b[1;32m     61\u001b[0m         \u001b[0mhasconst\u001b[0m \u001b[0;34m=\u001b[0m \u001b[0mkwargs\u001b[0m\u001b[0;34m.\u001b[0m\u001b[0mpop\u001b[0m\u001b[0;34m(\u001b[0m\u001b[0;34m'hasconst'\u001b[0m\u001b[0;34m,\u001b[0m \u001b[0;32mNone\u001b[0m\u001b[0;34m)\u001b[0m\u001b[0;34m\u001b[0m\u001b[0m\n\u001b[1;32m     62\u001b[0m         self.data = self._handle_data(endog, exog, missing, hasconst,\n\u001b[0;32m---> 63\u001b[0;31m                                       **kwargs)\n\u001b[0m\u001b[1;32m     64\u001b[0m         \u001b[0mself\u001b[0m\u001b[0;34m.\u001b[0m\u001b[0mk_constant\u001b[0m \u001b[0;34m=\u001b[0m \u001b[0mself\u001b[0m\u001b[0;34m.\u001b[0m\u001b[0mdata\u001b[0m\u001b[0;34m.\u001b[0m\u001b[0mk_constant\u001b[0m\u001b[0;34m\u001b[0m\u001b[0m\n\u001b[1;32m     65\u001b[0m         \u001b[0mself\u001b[0m\u001b[0;34m.\u001b[0m\u001b[0mexog\u001b[0m \u001b[0;34m=\u001b[0m \u001b[0mself\u001b[0m\u001b[0;34m.\u001b[0m\u001b[0mdata\u001b[0m\u001b[0;34m.\u001b[0m\u001b[0mexog\u001b[0m\u001b[0;34m\u001b[0m\u001b[0m\n",
      "\u001b[0;32m/anaconda3/anaconda3/lib/python3.6/site-packages/statsmodels/base/model.py\u001b[0m in \u001b[0;36m_handle_data\u001b[0;34m(self, endog, exog, missing, hasconst, **kwargs)\u001b[0m\n\u001b[1;32m     86\u001b[0m \u001b[0;34m\u001b[0m\u001b[0m\n\u001b[1;32m     87\u001b[0m     \u001b[0;32mdef\u001b[0m \u001b[0m_handle_data\u001b[0m\u001b[0;34m(\u001b[0m\u001b[0mself\u001b[0m\u001b[0;34m,\u001b[0m \u001b[0mendog\u001b[0m\u001b[0;34m,\u001b[0m \u001b[0mexog\u001b[0m\u001b[0;34m,\u001b[0m \u001b[0mmissing\u001b[0m\u001b[0;34m,\u001b[0m \u001b[0mhasconst\u001b[0m\u001b[0;34m,\u001b[0m \u001b[0;34m**\u001b[0m\u001b[0mkwargs\u001b[0m\u001b[0;34m)\u001b[0m\u001b[0;34m:\u001b[0m\u001b[0;34m\u001b[0m\u001b[0m\n\u001b[0;32m---> 88\u001b[0;31m         \u001b[0mdata\u001b[0m \u001b[0;34m=\u001b[0m \u001b[0mhandle_data\u001b[0m\u001b[0;34m(\u001b[0m\u001b[0mendog\u001b[0m\u001b[0;34m,\u001b[0m \u001b[0mexog\u001b[0m\u001b[0;34m,\u001b[0m \u001b[0mmissing\u001b[0m\u001b[0;34m,\u001b[0m \u001b[0mhasconst\u001b[0m\u001b[0;34m,\u001b[0m \u001b[0;34m**\u001b[0m\u001b[0mkwargs\u001b[0m\u001b[0;34m)\u001b[0m\u001b[0;34m\u001b[0m\u001b[0m\n\u001b[0m\u001b[1;32m     89\u001b[0m         \u001b[0;31m# kwargs arrays could have changed, easier to just attach here\u001b[0m\u001b[0;34m\u001b[0m\u001b[0;34m\u001b[0m\u001b[0m\n\u001b[1;32m     90\u001b[0m         \u001b[0;32mfor\u001b[0m \u001b[0mkey\u001b[0m \u001b[0;32min\u001b[0m \u001b[0mkwargs\u001b[0m\u001b[0;34m:\u001b[0m\u001b[0;34m\u001b[0m\u001b[0m\n",
      "\u001b[0;32m/anaconda3/anaconda3/lib/python3.6/site-packages/statsmodels/base/data.py\u001b[0m in \u001b[0;36mhandle_data\u001b[0;34m(endog, exog, missing, hasconst, **kwargs)\u001b[0m\n\u001b[1;32m    628\u001b[0m     \u001b[0mklass\u001b[0m \u001b[0;34m=\u001b[0m \u001b[0mhandle_data_class_factory\u001b[0m\u001b[0;34m(\u001b[0m\u001b[0mendog\u001b[0m\u001b[0;34m,\u001b[0m \u001b[0mexog\u001b[0m\u001b[0;34m)\u001b[0m\u001b[0;34m\u001b[0m\u001b[0m\n\u001b[1;32m    629\u001b[0m     return klass(endog, exog=exog, missing=missing, hasconst=hasconst,\n\u001b[0;32m--> 630\u001b[0;31m                  **kwargs)\n\u001b[0m",
      "\u001b[0;32m/anaconda3/anaconda3/lib/python3.6/site-packages/statsmodels/base/data.py\u001b[0m in \u001b[0;36m__init__\u001b[0;34m(self, endog, exog, missing, hasconst, **kwargs)\u001b[0m\n\u001b[1;32m     74\u001b[0m             \u001b[0mself\u001b[0m\u001b[0;34m.\u001b[0m\u001b[0morig_endog\u001b[0m \u001b[0;34m=\u001b[0m \u001b[0mendog\u001b[0m\u001b[0;34m\u001b[0m\u001b[0m\n\u001b[1;32m     75\u001b[0m             \u001b[0mself\u001b[0m\u001b[0;34m.\u001b[0m\u001b[0morig_exog\u001b[0m \u001b[0;34m=\u001b[0m \u001b[0mexog\u001b[0m\u001b[0;34m\u001b[0m\u001b[0m\n\u001b[0;32m---> 76\u001b[0;31m             \u001b[0mself\u001b[0m\u001b[0;34m.\u001b[0m\u001b[0mendog\u001b[0m\u001b[0;34m,\u001b[0m \u001b[0mself\u001b[0m\u001b[0;34m.\u001b[0m\u001b[0mexog\u001b[0m \u001b[0;34m=\u001b[0m \u001b[0mself\u001b[0m\u001b[0;34m.\u001b[0m\u001b[0m_convert_endog_exog\u001b[0m\u001b[0;34m(\u001b[0m\u001b[0mendog\u001b[0m\u001b[0;34m,\u001b[0m \u001b[0mexog\u001b[0m\u001b[0;34m)\u001b[0m\u001b[0;34m\u001b[0m\u001b[0m\n\u001b[0m\u001b[1;32m     77\u001b[0m \u001b[0;34m\u001b[0m\u001b[0m\n\u001b[1;32m     78\u001b[0m         \u001b[0;31m# this has side-effects, attaches k_constant and const_idx\u001b[0m\u001b[0;34m\u001b[0m\u001b[0;34m\u001b[0m\u001b[0m\n",
      "\u001b[0;32m/anaconda3/anaconda3/lib/python3.6/site-packages/statsmodels/base/data.py\u001b[0m in \u001b[0;36m_convert_endog_exog\u001b[0;34m(self, endog, exog)\u001b[0m\n\u001b[1;32m    317\u001b[0m                 \u001b[0mxarr\u001b[0m \u001b[0;34m=\u001b[0m \u001b[0mxarr\u001b[0m\u001b[0;34m[\u001b[0m\u001b[0;34m:\u001b[0m\u001b[0;34m,\u001b[0m \u001b[0;32mNone\u001b[0m\u001b[0;34m]\u001b[0m\u001b[0;34m\u001b[0m\u001b[0m\n\u001b[1;32m    318\u001b[0m             \u001b[0;32mif\u001b[0m \u001b[0mxarr\u001b[0m\u001b[0;34m.\u001b[0m\u001b[0mndim\u001b[0m \u001b[0;34m!=\u001b[0m \u001b[0;36m2\u001b[0m\u001b[0;34m:\u001b[0m\u001b[0;34m\u001b[0m\u001b[0m\n\u001b[0;32m--> 319\u001b[0;31m                 \u001b[0;32mraise\u001b[0m \u001b[0mValueError\u001b[0m\u001b[0;34m(\u001b[0m\u001b[0;34m\"exog is not 1d or 2d\"\u001b[0m\u001b[0;34m)\u001b[0m\u001b[0;34m\u001b[0m\u001b[0m\n\u001b[0m\u001b[1;32m    320\u001b[0m \u001b[0;34m\u001b[0m\u001b[0m\n\u001b[1;32m    321\u001b[0m         \u001b[0;32mreturn\u001b[0m \u001b[0myarr\u001b[0m\u001b[0;34m,\u001b[0m \u001b[0mxarr\u001b[0m\u001b[0;34m\u001b[0m\u001b[0m\n",
      "\u001b[0;31mValueError\u001b[0m: exog is not 1d or 2d"
     ],
     "output_type": "error"
    }
   ],
   "source": [
    "X = sm.add_constant(x)\n",
    "\n",
    "logit = sm.Logit(y,X).fit_regularized()\n",
    "proba = (logit.predict(X))\n",
    "\n",
    "# estimate confidence interval for predicted probabilities\n",
    "cov = logit.cov_params()\n",
    "gradient = (proba * (1 - proba) * X.T).T # matrix of gradients for each observation\n",
    "std_errors = np.array([np.sqrt(np.dot(np.dot(g, cov), g)) for g in gradient])\n",
    "\n",
    "c = 1.96 # multiplier for confidence interval\n",
    "upper = np.maximum(0, np.minimum(1, proba + std_errors * c))\n",
    "lower = np.maximum(0, np.minimum(1, proba - std_errors * c))\n",
    "\n",
    "plt.plot(x, proba, label ='Probability')\n",
    "plt.plot(x, lower, color='g',label='lower 95% CI')\n",
    "plt.plot(x, upper, color='g', label = 'upper 95% CI')\n",
    "plt.legend()\n",
    "plt.show()"
   ]
  },
  {
   "cell_type": "code",
   "execution_count": 17,
   "metadata": {},
   "outputs": [],
   "source": [
    "rnd_hrs = np.random.uniform(0,5,100)\n",
    "rnd_X = sm.add_constant(rnd_hrs)\n",
    "rnd_proba = (logit.predict(rnd_X))\n",
    "# print(rnd_proba)\n",
    "i = 0\n",
    "for item in rnd_proba:\n",
    "    if item<0.5:\n",
    "        rnd_proba[i] = 0\n",
    "    else:\n",
    "        item = rnd_proba[i] = 1\n",
    "    i += 1"
   ]
  },
  {
   "cell_type": "code",
   "execution_count": 21,
   "metadata": {},
   "outputs": [
    {
     "name": "stdout",
     "output_type": "stream",
     "text": [
      "[83 59 68 42 88 79 46 56 60 35 24 44 91 23 24 85  7  3 22 93 66  4 73 93\n",
      " 91  6 98 89 43 36 51 79 91 51 91 86 78 93 90 28 90 15 95  3 12  5 35 22\n",
      " 97 84 24 56 70 65  0  3  5 88 12 24 10 93 23  1 81 72 33 76 23 71 50 23\n",
      " 72 35 27 34 39 73 91 82  1 36 93 62 75 34 91 29 66 17 48 29 55 75 41 55\n",
      " 70 57 58  2] <class 'numpy.ndarray'>\n",
      "[0.0, 0.0, 0.0, 0.0, 0.0, 1.0, 1.0, 0.0, 1.0, 1.0, 1.0, 0.0, 1.0, 1.0, 1.0, 0.0, 0.0, 0.0, 0.0, 1.0, 0.0, 0.0, 0.0, 1.0, 1.0, 1.0, 0.0, 0.0, 0.0, 0.0, 0.0, 1.0, 1.0, 0.0, 1.0, 1.0, 0.0, 1.0, 0.0, 1.0, 0.0, 0.0, 0.0, 0.0, 0.0, 1.0, 1.0, 0.0, 1.0, 1.0, 1.0, 0.0, 1.0, 1.0, 0.0, 0.0, 1.0, 0.0, 0.0, 1.0, 0.0, 1.0, 1.0, 1.0, 0.0, 0.0, 0.0, 1.0, 1.0, 1.0, 0.0, 1.0, 0.0, 1.0, 0.0, 0.0, 1.0, 0.0, 1.0, 1.0, 1.0, 0.0, 1.0, 1.0, 1.0, 0.0, 1.0, 1.0, 0.0, 1.0, 0.0, 1.0, 1.0, 1.0, 0.0, 1.0, 1.0, 0.0, 0.0, 0.0]\n",
      "Optimization terminated successfully.    (Exit mode 0)\n",
      "            Current function value: 9.239287134501905e-11\n",
      "            Iterations: 51\n",
      "            Function evaluations: 52\n",
      "            Gradient evaluations: 51\n",
      "SORTED [[1.         0.04332101]\n",
      " [1.         0.11383968]\n",
      " [1.         0.32032315]\n",
      " [1.         0.66611053]\n",
      " [1.         0.66611053]\n",
      " [1.         0.67837502]\n",
      " [1.         0.67837502]\n",
      " [1.         0.775769  ]\n",
      " [1.         0.775769  ]\n",
      " [1.         0.775769  ]\n",
      " [1.         0.7775577 ]\n",
      " [1.         0.7775577 ]\n",
      " [1.         0.87016086]\n",
      " [1.         0.94968909]\n",
      " [1.         1.01350418]\n",
      " [1.         1.0854329 ]\n",
      " [1.         1.11106913]\n",
      " [1.         1.11186295]\n",
      " [1.         1.13720247]\n",
      " [1.         1.26771292]\n",
      " [1.         1.31639935]\n",
      " [1.         1.31639935]\n",
      " [1.         1.34202793]\n",
      " [1.         1.38237171]\n",
      " [1.         1.44537986]\n",
      " [1.         1.5405653 ]\n",
      " [1.         1.59895323]\n",
      " [1.         1.65019744]\n",
      " [1.         1.69053556]\n",
      " [1.         1.69053556]\n",
      " [1.         1.75209887]\n",
      " [1.         1.7548302 ]\n",
      " [1.         1.79399659]\n",
      " [1.         1.94804885]\n",
      " [1.         1.94804885]\n",
      " [1.         1.98124919]\n",
      " [1.         2.25568043]\n",
      " [1.         2.25568043]\n",
      " [1.         2.3162268 ]\n",
      " [1.         2.32839183]\n",
      " [1.         2.32839183]\n",
      " [1.         2.40771285]\n",
      " [1.         2.51981312]\n",
      " [1.         2.51981312]\n",
      " [1.         2.52664428]\n",
      " [1.         2.52664428]\n",
      " [1.         2.58040908]\n",
      " [1.         2.6360848 ]\n",
      " [1.         2.6997195 ]\n",
      " [1.         2.6997195 ]\n",
      " [1.         2.71170269]\n",
      " [1.         2.81435398]\n",
      " [1.         2.81435398]\n",
      " [1.         2.86109244]\n",
      " [1.         2.99446532]\n",
      " [1.         3.06383097]\n",
      " [1.         3.06985716]\n",
      " [1.         3.11658754]\n",
      " [1.         3.1504338 ]\n",
      " [1.         3.1504338 ]\n",
      " [1.         3.1504338 ]\n",
      " [1.         3.1504338 ]\n",
      " [1.         3.24001353]\n",
      " [1.         3.48075777]\n",
      " [1.         3.48932258]\n",
      " [1.         3.50082845]\n",
      " [1.         3.50082845]\n",
      " [1.         3.50859566]\n",
      " [1.         3.56782636]\n",
      " [1.         3.56782636]\n",
      " [1.         3.56782636]\n",
      " [1.         3.67826004]\n",
      " [1.         3.68210905]\n",
      " [1.         3.68210905]\n",
      " [1.         3.7165594 ]\n",
      " [1.         3.7165594 ]\n",
      " [1.         3.74238277]\n",
      " [1.         3.74238277]\n",
      " [1.         3.74775631]\n",
      " [1.         3.74775631]\n",
      " [1.         3.74775631]\n",
      " [1.         3.74775631]\n",
      " [1.         3.95399072]\n",
      " [1.         4.02730879]\n",
      " [1.         4.02730879]\n",
      " [1.         4.17010082]\n",
      " [1.         4.17010082]\n",
      " [1.         4.17010082]\n",
      " [1.         4.17010082]\n",
      " [1.         4.17010082]\n",
      " [1.         4.18699516]\n",
      " [1.         4.3282584 ]\n",
      " [1.         4.3282584 ]\n",
      " [1.         4.40211059]\n",
      " [1.         4.86728731]\n",
      " [1.         4.86728731]\n",
      " [1.         4.86728731]\n",
      " [1.         4.86728731]\n",
      " [1.         4.86728731]\n",
      " [1.         4.86728731]]\n",
      "SORTED PREDS [0.01776644 0.01971599 0.02670781 0.04413173 0.04413173 0.04491677\n",
      " 0.04491677 0.05163969 0.05163969 0.05163969 0.05177165 0.05177165\n",
      " 0.05905487 0.06606572 0.07224282 0.07984096 0.08272113 0.08281181\n",
      " 0.08575415 0.10245467 0.10938998 0.10938998 0.1132038  0.11944226\n",
      " 0.12977863 0.14682826 0.15817846 0.16871808 0.17740259 0.17740259\n",
      " 0.19132642 0.19196309 0.20127041 0.24111446 0.24111446 0.2503729\n",
      " 0.33543534 0.33543534 0.35603802 0.36024565 0.36024565 0.38818494\n",
      " 0.42891555 0.42891555 0.43143505 0.43143505 0.45137872 0.47219634\n",
      " 0.49610461 0.49610461 0.50061214 0.53914531 0.53914531 0.55656361\n",
      " 0.60537351 0.63001393 0.63212498 0.64831857 0.6598404  0.6598404\n",
      " 0.6598404  0.6598404  0.68941135 0.76126063 0.76359486 0.76670575\n",
      " 0.76670575 0.76878965 0.78425053 0.78425053 0.78425053 0.81103879\n",
      " 0.81192475 0.81192475 0.81971252 0.81971252 0.82538351 0.82538351\n",
      " 0.82654574 0.82654574 0.82654574 0.82654574 0.86664918 0.87889085\n",
      " 0.87889085 0.89996356 0.89996356 0.89996356 0.89996356 0.89996356\n",
      " 0.90222895 0.91944209 0.91944209 0.9272984  0.96252326 0.96252326\n",
      " 0.96252326 0.96252326 0.96252326 0.96252326]\n",
      "[array([0.01776644, 0.01971599, 0.02670781, 0.04413173, 0.04413173,\n",
      "       0.04491677, 0.04491677, 0.05163969, 0.05163969, 0.05163969,\n",
      "       0.05177165, 0.05177165, 0.05905487, 0.06606572, 0.07224282,\n",
      "       0.07984096, 0.08272113, 0.08281181, 0.08575415, 0.10245467,\n",
      "       0.10938998, 0.10938998, 0.1132038 , 0.11944226, 0.12977863,\n",
      "       0.14682826, 0.15817846, 0.16871808, 0.17740259, 0.17740259,\n",
      "       0.19132642, 0.19196309, 0.20127041, 0.24111446, 0.24111446,\n",
      "       0.2503729 , 0.33543534, 0.33543534, 0.35603802, 0.36024565,\n",
      "       0.36024565, 0.38818494, 0.42891555, 0.42891555, 0.43143505,\n",
      "       0.43143505, 0.45137872, 0.47219634, 0.49610461, 0.49610461,\n",
      "       0.50061214, 0.53914531, 0.53914531, 0.55656361, 0.60537351,\n",
      "       0.63001393, 0.63212498, 0.64831857, 0.6598404 , 0.6598404 ,\n",
      "       0.6598404 , 0.6598404 , 0.68941135, 0.76126063, 0.76359486,\n",
      "       0.76670575, 0.76670575, 0.76878965, 0.78425053, 0.78425053,\n",
      "       0.78425053, 0.81103879, 0.81192475, 0.81192475, 0.81971252,\n",
      "       0.81971252, 0.82538351, 0.82538351, 0.82654574, 0.82654574,\n",
      "       0.82654574, 0.82654574, 0.86664918, 0.87889085, 0.87889085,\n",
      "       0.89996356, 0.89996356, 0.89996356, 0.89996356, 0.89996356,\n",
      "       0.90222895, 0.91944209, 0.91944209, 0.9272984 , 0.96252326,\n",
      "       0.96252326, 0.96252326, 0.96252326, 0.96252326, 0.96252326])]\n"
     ]
    },
    {
     "name": "stderr",
     "output_type": "stream",
     "text": [
      "/anaconda3/anaconda3/lib/python3.6/site-packages/statsmodels/discrete/discrete_model.py:1214: RuntimeWarning: overflow encountered in exp\n",
      "  return 1/(1+np.exp(-X))\n"
     ]
    }
   ],
   "source": [
    "#bootstrap\n",
    "preds = []\n",
    "for i in range(1):\n",
    "    boot_idx = np.random.choice(len(rnd_X), replace=True, size=len(rnd_X))\n",
    "    print(boot_idx,type(boot_idx))\n",
    "    Y=[]\n",
    "    for i in boot_idx:\n",
    "        Y.append(rnd_proba[i])\n",
    "    print(Y)\n",
    "    try:\n",
    "        model = sm.Logit(Y, rnd_X[boot_idx]).fit_regularized()\n",
    "        sorted = np.sort(rnd_X[boot_idx],axis=0)\n",
    "        print(\"SORTED\",sorted)\n",
    "        preds.append(logit.predict(sorted))\n",
    "        print(\"SORTED PREDS\", logit.predict(sorted))\n",
    "    except:\n",
    "        pass\n",
    "\n",
    "\n",
    "print(preds)"
   ]
  },
  {
   "cell_type": "code",
   "execution_count": 20,
   "metadata": {},
   "outputs": [
    {
     "data": {
      "image/png": "[encoded data removed]",
      "text/plain": [
       "<Figure size 432x288 with 1 Axes>"
      ]
     },
     "metadata": {},
     "output_type": "display_data"
    }
   ],
   "source": [
    "p = np.array(preds)\n",
    "plt.plot(rnd_X[:, 1], np.percentile(p, 95.5, axis=0),color='g',label='95% CI')\n",
    "plt.plot(rnd_X[:, 1], np.percentile(p, 2.5, axis=0),color='r',label='95% CI')\n",
    "plt.legend()\n",
    "plt.show()"
   ]
  },
  {
   "cell_type": "code",
   "execution_count": null,
   "metadata": {},
   "outputs": [],
   "source": [
    ""
   ]
  },
  {
   "cell_type": "code",
   "execution_count": null,
   "metadata": {},
   "outputs": [],
   "source": [
    ""
   ]
  }
 ],
 "metadata": {
  "kernelspec": {
   "display_name": "Python 3",
   "language": "python",
   "name": "python3"
  },
  "language_info": {
   "codemirror_mode": {
    "name": "ipython",
    "version": 3.0
   },
   "file_extension": ".py",
   "mimetype": "text/x-python",
   "name": "python",
   "nbconvert_exporter": "python",
   "pygments_lexer": "ipython3",
   "version": "3.6.4"
  }
 },
 "nbformat": 4,
 "nbformat_minor": 0
}