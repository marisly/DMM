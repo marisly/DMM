{
 "cells": [
  {
   "cell_type": "code",
   "execution_count": 11,
   "metadata": {},
   "outputs": [],
   "source": [
    "import statsmodels.api as sm\n",
    "import matplotlib.pyplot as plt\n",
    "import numpy as np\n",
    "from sklearn import linear_model\n",
    "import pandas as pd"
   ]
  },
  {
   "cell_type": "code",
   "execution_count": 12,
   "metadata": {},
   "outputs": [],
   "source": [
    "x = [0.50, 0.75, 1.00, 1.25, 1.50, 1.75, 1.75, 2.00, 2.25, 2.50, 2.75, 3.00, 3.25, 3.50, 4.00, 4.25, 4.50, 4.75, 5.00, 5.50]\n",
    "y = [0,    0,    0,    0,    0,    0,    1,    0,    1,    0,    1,    0,    1,    0,    1,    1,    1,    1,    1,    1]\n",
    "\n",
    "X_test = [0, 1, 2, 3, 4, 5]"
   ]
  },
  {
   "cell_type": "code",
   "execution_count": 13,
   "metadata": {},
   "outputs": [
    {
     "name": "stdout",
     "output_type": "stream",
     "text": [
      "Optimization terminated successfully.    (Exit mode 0)\n",
      "            Current function value: 0.4014939232249575\n",
      "            Iterations: 14\n",
      "            Function evaluations: 14\n",
      "            Gradient evaluations: 14\n"
     ]
    },
    {
     "data": {
      "image/png": "[encoded data removed]",
      "text/plain": [
       "<Figure size 432x288 with 1 Axes>"
      ]
     },
     "metadata": {},
     "output_type": "display_data"
    }
   ],
   "source": [
    "X = sm.add_constant(x)\n",
    "\n",
    "logit = sm.Logit(y,X).fit_regularized()\n",
    "proba = (logit.predict(X))\n",
    "\n",
    "# estimate confidence interval for predicted probabilities\n",
    "cov = logit.cov_params()\n",
    "gradient = (proba * (1 - proba) * X.T).T # matrix of gradients for each observation\n",
    "std_errors = np.array([np.sqrt(np.dot(np.dot(g, cov), g)) for g in gradient])\n",
    "\n",
    "c = 1.96 # multiplier for confidence interval\n",
    "upper = np.maximum(0, np.minimum(1, proba + std_errors * c))\n",
    "lower = np.maximum(0, np.minimum(1, proba - std_errors * c))\n",
    "\n",
    "plt.plot(x, proba, label ='Probability')\n",
    "plt.plot(x, lower, color='g',label='lower 95% CI')\n",
    "plt.plot(x, upper, color='g', label = 'upper 95% CI')\n",
    "plt.legend()\n",
    "plt.show()"
   ]
  },
  {
   "cell_type": "code",
   "execution_count": 14,
   "metadata": {},
   "outputs": [
    {
     "name": "stdout",
     "output_type": "stream",
     "text": [
      "[13 18 17  3 13 18 16  3  6  5 13  0  4 18 17  0  0  1 19 12] <class 'numpy.ndarray'>\n",
      "[0, 1, 1, 0, 0, 1, 1, 0, 1, 0, 0, 0, 0, 1, 1, 0, 0, 0, 1, 1]\n",
      "Optimization terminated successfully.    (Exit mode 0)\n",
      "            Current function value: 0.3322969740659524\n",
      "            Iterations: 14\n",
      "            Function evaluations: 15\n",
      "            Gradient evaluations: 14\n",
      "SORTED [[1.   0.5 ]\n",
      " [1.   0.5 ]\n",
      " [1.   0.5 ]\n",
      " [1.   0.75]\n",
      " [1.   1.25]\n",
      " [1.   1.25]\n",
      " [1.   1.5 ]\n",
      " [1.   1.75]\n",
      " [1.   1.75]\n",
      " [1.   3.25]\n",
      " [1.   3.5 ]\n",
      " [1.   3.5 ]\n",
      " [1.   3.5 ]\n",
      " [1.   4.5 ]\n",
      " [1.   4.75]\n",
      " [1.   4.75]\n",
      " [1.   5.  ]\n",
      " [1.   5.  ]\n",
      " [1.   5.  ]\n",
      " [1.   5.5 ]]\n",
      "SORTED PREDS [0.03471075 0.03471075 0.03471075 0.04977352 0.10002968 0.10002968\n",
      " 0.13934587 0.19083829 0.19083829 0.6926196  0.76648272 0.76648272\n",
      " 0.76648272 0.93662425 0.95561112 0.95561112 0.96909735 0.96909735\n",
      " 0.96909735 0.98519458]\n",
      "[ 2 19  0 13 19 19  8  5  5 16  5 11  7 16  7  7 12  7  5 11] <class 'numpy.ndarray'>\n",
      "[0, 1, 0, 0, 1, 1, 1, 0, 0, 1, 0, 0, 0, 1, 0, 0, 1, 0, 0, 0]\n",
      "Optimization terminated successfully.    (Exit mode 0)\n",
      "            Current function value: 0.27137963489234485\n",
      "            Iterations: 14\n",
      "            Function evaluations: 14\n",
      "            Gradient evaluations: 14\n",
      "SORTED [[1.   0.5 ]\n",
      " [1.   1.  ]\n",
      " [1.   1.75]\n",
      " [1.   1.75]\n",
      " [1.   1.75]\n",
      " [1.   1.75]\n",
      " [1.   2.  ]\n",
      " [1.   2.  ]\n",
      " [1.   2.  ]\n",
      " [1.   2.  ]\n",
      " [1.   2.25]\n",
      " [1.   3.  ]\n",
      " [1.   3.  ]\n",
      " [1.   3.25]\n",
      " [1.   3.5 ]\n",
      " [1.   4.5 ]\n",
      " [1.   4.5 ]\n",
      " [1.   5.5 ]\n",
      " [1.   5.5 ]\n",
      " [1.   5.5 ]]\n",
      "SORTED PREDS [0.03471075 0.07089275 0.19083829 0.19083829 0.19083829 0.19083829\n",
      " 0.25570535 0.25570535 0.25570535 0.25570535 0.33353274 0.60736122\n",
      " 0.60736122 0.6926196  0.76648272 0.93662425 0.93662425 0.98519458\n",
      " 0.98519458 0.98519458]\n",
      "[array([0.03471075, 0.03471075, 0.03471075, 0.04977352, 0.10002968,\n",
      "       0.10002968, 0.13934587, 0.19083829, 0.19083829, 0.6926196 ,\n",
      "       0.76648272, 0.76648272, 0.76648272, 0.93662425, 0.95561112,\n",
      "       0.95561112, 0.96909735, 0.96909735, 0.96909735, 0.98519458]), array([0.03471075, 0.07089275, 0.19083829, 0.19083829, 0.19083829,\n",
      "       0.19083829, 0.25570535, 0.25570535, 0.25570535, 0.25570535,\n",
      "       0.33353274, 0.60736122, 0.60736122, 0.6926196 , 0.76648272,\n",
      "       0.93662425, 0.93662425, 0.98519458, 0.98519458, 0.98519458])]\n"
     ]
    }
   ],
   "source": [
    "#bootstrap\n",
    "preds = []\n",
    "for i in range(1000):\n",
    "    boot_idx = np.random.choice(len(X), replace=True, size=len(X))\n",
    "    print(boot_idx,type(boot_idx))\n",
    "    Y=[]\n",
    "    for x in boot_idx:\n",
    "        Y.append(y[x])\n",
    "    print(Y)\n",
    "    try:\n",
    "        model = sm.Logit(Y, X[boot_idx]).fit_regularized()\n",
    "        sorted = np.sort(X[boot_idx],axis=0)\n",
    "        print(\"SORTED\",sorted)\n",
    "        preds.append(logit.predict(sorted))\n",
    "        print(\"SORTED PREDS\", logit.predict(sorted))\n",
    "    except:\n",
    "        pass\n",
    "    if i == 1:\n",
    "        break\n",
    "\n",
    "print(preds)"
   ]
  },
  {
   "cell_type": "code",
   "execution_count": 15,
   "metadata": {},
   "outputs": [
    {
     "data": {
      "image/png": "[encoded data removed]",
      "text/plain": [
       "<Figure size 432x288 with 1 Axes>"
      ]
     },
     "metadata": {},
     "output_type": "display_data"
    }
   ],
   "source": [
    "p = np.array(preds)\n",
    "plt.plot(X[:, 1], np.percentile(p, 95.5, axis=0),color='g',label='95% CI')\n",
    "plt.plot(X[:, 1], np.percentile(p, 2.5, axis=0),color='r',label='95% CI')\n",
    "plt.legend()\n",
    "plt.show()"
   ]
  },
  {
   "cell_type": "code",
   "execution_count": null,
   "metadata": {},
   "outputs": [],
   "source": [
    ""
   ]
  },
  {
   "cell_type": "code",
   "execution_count": null,
   "metadata": {},
   "outputs": [],
   "source": [
    ""
   ]
  }
 ],
 "metadata": {
  "kernelspec": {
   "display_name": "Python 3",
   "language": "python",
   "name": "python3"
  },
  "language_info": {
   "codemirror_mode": {
    "name": "ipython",
    "version": 3.0
   },
   "file_extension": ".py",
   "mimetype": "text/x-python",
   "name": "python",
   "nbconvert_exporter": "python",
   "pygments_lexer": "ipython3",
   "version": "3.6.4"
  }
 },
 "nbformat": 4,
 "nbformat_minor": 0
}